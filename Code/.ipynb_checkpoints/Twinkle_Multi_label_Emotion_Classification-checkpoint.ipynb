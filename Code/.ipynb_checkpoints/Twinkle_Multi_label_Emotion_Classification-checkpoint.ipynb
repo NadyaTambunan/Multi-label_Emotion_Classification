{
 "cells": [
  {
   "cell_type": "code",
   "execution_count": 1,
   "metadata": {},
   "outputs": [],
   "source": [
    "import pathlib\n",
    "import pandas as pd \n",
    "import numpy as np \n",
    "import nltk\n",
    "from nltk.corpus import stopwords\n",
    "from nltk.tokenize import word_tokenize \n",
    "from nltk.stem import PorterStemmer \n",
    "import re \n",
    "from sklearn.model_selection import train_test_split\n",
    "from sklearn.feature_extraction.text import TfidfVectorizer"
   ]
  },
  {
   "cell_type": "code",
   "execution_count": 2,
   "metadata": {},
   "outputs": [],
   "source": [
    "dataset = pathlib.Path.cwd() / 'train.tsv'\n",
    "df = pd.read_csv(dataset, sep='\\t', header=None, names=['comment', 'label', 'id'])\n",
    "df['label'] = df['label'].str.split(',')"
   ]
  },
  {
   "cell_type": "markdown",
   "metadata": {},
   "source": [
    "<h3>Mapping Label</h3>"
   ]
  },
  {
   "cell_type": "code",
   "execution_count": 3,
   "metadata": {},
   "outputs": [],
   "source": [
    "# Melakukan mapping 27 label menjadi 7 label\n",
    "emotion_list = ['admiration', 'amusement', 'anger', 'annoyance', 'approval', 'caring', 'confusion', 'curiosity', 'desire', 'disappointment',                     \n",
    "                'disapproval', 'disgust', 'embarrassment', 'excitement', 'fear', 'gratitude', 'grief', 'joy', 'love', 'nervousness', 'optimism',                 \n",
    "                'pride', 'realization', 'relief', 'remorse', 'sadness', 'surprise', 'neutral']\n",
    "\n",
    "enkman_mapping = {\n",
    "        \"anger\": [\"anger\", \"annoyance\", \"disapproval\"],\n",
    "        \"disgust\": [\"disgust\"],\n",
    "        \"fear\": [\"fear\", \"nervousness\"],\n",
    "        \"joy\": [\"joy\", \"amusement\", \"approval\", \"excitement\", \"gratitude\",  \"love\", \"optimism\", \"relief\", \"pride\", \"admiration\", \"desire\", \"caring\"],\n",
    "        \"sadness\": [\"sadness\", \"disappointment\", \"embarrassment\", \"grief\",  \"remorse\"],\n",
    "        \"surprise\": [\"surprise\", \"realization\", \"confusion\", \"curiosity\"],\n",
    "        \"neutral\": [\"neutral\"],\n",
    "        }\n",
    "enkman_mapping_rev = {v:key for key, value in enkman_mapping.items() for v in value}"
   ]
  },
  {
   "cell_type": "code",
   "execution_count": 4,
   "metadata": {},
   "outputs": [],
   "source": [
    "# function from Google Research analysis \n",
    "def idx2class(idx_list):\n",
    "    arr = []\n",
    "    for i in idx_list:\n",
    "        arr.append(emotion_list[int(i)])\n",
    "    return arr"
   ]
  },
  {
   "cell_type": "code",
   "execution_count": 5,
   "metadata": {},
   "outputs": [],
   "source": [
    "# add emotion label to the label ids\n",
    "df['emotions'] = df['label'].apply(idx2class)\n",
    "\n",
    "# use enkman mapping to reduce the emotions to a list of ['anger', 'disgust', 'fear', 'joy', 'sadness', 'surprise', 'neutral']\n",
    "df['mapped_emotions'] = df['emotions'].apply(lambda x: [enkman_mapping_rev[i] for i in x])\n",
    "\n",
    "# fix issues where ['joy',' joy'] might appear\n",
    "df.loc[df['mapped_emotions'].apply(len)>1, 'mapped_emotions'] = df.loc[df['mapped_emotions'].apply(len)>1, 'mapped_emotions'].apply(lambda x: [emotion for emotion in set(x)])"
   ]
  },
  {
   "cell_type": "markdown",
   "metadata": {},
   "source": [
    "<h3>Data Preprocessing</h3>"
   ]
  },
  {
   "cell_type": "code",
   "execution_count": 6,
   "metadata": {},
   "outputs": [
    {
     "name": "stdout",
     "output_type": "stream",
     "text": [
      "Requirement already satisfied: emoji in c:\\users\\rifka\\anaconda3\\lib\\site-packages (1.6.1)\n"
     ]
    }
   ],
   "source": [
    "import re\n",
    "import string\n",
    "import json\n",
    "!pip install emoji\n",
    "import emoji\n",
    "import numpy as np\n",
    "import pandas as pd"
   ]
  },
  {
   "cell_type": "code",
   "execution_count": 7,
   "metadata": {},
   "outputs": [],
   "source": [
    "contraction_mapping = {\"ain't\": \"is not\", \"aren't\": \"are not\",\"can't\": \"cannot\", \"'cause\": \"because\", \"could've\": \"could have\", \"couldn't\": \"could not\", \n",
    "                       \"didn't\": \"did not\",  \"doesn't\": \"does not\", \"don't\": \"do not\", \"hadn't\": \"had not\", \"hasn't\": \"has not\", \"haven't\": \"have not\", \n",
    "                       \"he'd\": \"he would\",\"he'll\": \"he will\", \"he's\": \"he is\", \"how'd\": \"how did\", \"how'd'y\": \"how do you\", \"how'll\": \"how will\", \n",
    "                       \"how's\": \"how is\",  \"I'd\": \"I would\", \"I'd've\": \"I would have\", \"I'll\": \"I will\", \"I'll've\": \"I will have\",\"I'm\": \"I am\",\n",
    "                       \"I've\": \"I have\", \"i'd\": \"i would\", \"i'd've\": \"i would have\", \"i'll\": \"i will\",  \"i'll've\": \"i will have\",\"i'm\": \"i am\", \n",
    "                       \"i've\": \"i have\", \"isn't\": \"is not\", \"it'd\": \"it would\", \"it'd've\": \"it would have\", \"it'll\": \"it will\", \"it'll've\": \"it will have\",\n",
    "                       \"it's\": \"it is\", \"let's\": \"let us\", \"ma'am\": \"madam\", \"mayn't\": \"may not\", \"might've\": \"might have\",\"mightn't\": \"might not\",\n",
    "                       \"mightn't've\": \"might not have\", \"must've\": \"must have\", \"mustn't\": \"must not\", \"mustn't've\": \"must not have\", \"needn't\": \"need not\", \n",
    "                       \"needn't've\": \"need not have\",\"o'clock\": \"of the clock\", \"oughtn't\": \"ought not\", \"oughtn't've\": \"ought not have\", \"shan't\": \"shall not\",\n",
    "                       \"sha'n't\": \"shall not\", \"shan't've\": \"shall not have\", \"she'd\": \"she would\", \"she'd've\": \"she would have\", \"she'll\": \"she will\", \n",
    "                       \"she'll've\": \"she will have\", \"she's\": \"she is\", \"should've\": \"should have\", \"shouldn't\": \"should not\", \"shouldn't've\": \"should not have\",\n",
    "                       \"so've\": \"so have\",\"so's\": \"so as\", \"this's\": \"this is\",\"that'd\": \"that would\", \"that'd've\": \"that would have\", \"that's\": \"that is\",\n",
    "                       \"there'd\": \"there would\", \"there'd've\": \"there would have\", \"there's\": \"there is\", \"here's\": \"here is\",\"they'd\": \"they would\",\n",
    "                       \"they'd've\": \"they would have\", \"they'll\": \"they will\", \"they'll've\": \"they will have\", \"they're\": \"they are\", \"they've\": \"they have\",\n",
    "                       \"to've\": \"to have\", \"wasn't\": \"was not\", \"we'd\": \"we would\", \"we'd've\": \"we would have\", \"we'll\": \"we will\", \"we'll've\": \"we will have\",\n",
    "                       \"we're\": \"we are\", \"we've\": \"we have\", \"weren't\": \"were not\", \"what'll\": \"what will\", \"what'll've\": \"what will have\", \n",
    "                       \"what're\": \"what are\",  \"what's\": \"what is\", \"what've\": \"what have\", \"when's\": \"when is\", \"when've\": \"when have\", \"where'd\": \"where did\",\n",
    "                       \"where's\": \"where is\", \"where've\": \"where have\", \"who'll\": \"who will\", \"who'll've\": \"who will have\", \"who's\": \"who is\", \n",
    "                       \"who've\": \"who have\", \"why's\": \"why is\", \"why've\": \"why have\", \"will've\": \"will have\", \"won't\": \"will not\", \"won't've\": \"will not have\", \n",
    "                       \"would've\": \"would have\", \"wouldn't\": \"would not\", \"wouldn't've\": \"would not have\", \"y'all\": \"you all\", \"y'all'd\": \"you all would\",\n",
    "                       \"y'all'd've\": \"you all would have\",\"y'all're\": \"you all are\",\"y'all've\": \"you all have\",\"you'd\": \"you would\", \"you'd've\": \"you would have\",\n",
    "                       \"you'll\": \"you will\", \"you'll've\": \"you will have\", \"you're\": \"you are\", \"you've\": \"you have\", 'u.s':'america', 'e.g':'for example'}\n",
    "\n",
    "punct = [',', '.', '\"', ':', ')', '(', '-', '!', '?', '|', ';', \"'\", '$', '&', '/', '[', ']', '>', '%', '=', '#', '*', '+', '\\\\', '•',  '~', '@', '£', \n",
    " '·', '_', '{', '}', '©', '^', '®', '`',  '<', '→', '°', '€', '™', '›',  '♥', '←', '×', '§', '″', '′', 'Â', '█', '½', 'à', '…', \n",
    " '“', '★', '”', '–', '●', 'â', '►', '−', '¢', '²', '¬', '░', '¶', '↑', '±', '¿', '▾', '═', '¦', '║', '―', '¥', '▓', '—', '‹', '─', \n",
    " '▒', '：', '¼', '⊕', '▼', '▪', '†', '■', '’', '▀', '¨', '▄', '♫', '☆', 'é', '¯', '♦', '¤', '▲', 'è', '¸', '¾', 'Ã', '⋅', '‘', '∞', \n",
    " '∙', '）', '↓', '、', '│', '（', '»', '，', '♪', '╩', '╚', '³', '・', '╦', '╣', '╔', '╗', '▬', '❤', 'ï', 'Ø', '¹', '≤', '‡', '√', ]\n",
    "\n",
    "punct_mapping = {\"‘\": \"'\", \"₹\": \"e\", \"´\": \"'\", \"°\": \"\", \"€\": \"e\", \"™\": \"tm\", \"√\": \" sqrt \", \"×\": \"x\", \"²\": \"2\", \"—\": \"-\", \"–\": \"-\", \"’\": \"'\", \"_\": \"-\",\n",
    "                 \"`\": \"'\", '“': '\"', '”': '\"', '“': '\"', \"£\": \"e\", '∞': 'infinity', 'θ': 'theta', '÷': '/', 'α': 'alpha', '•': '.', 'à': 'a', '−': '-', \n",
    "                 'β': 'beta', '∅': '', '³': '3', 'π': 'pi', '!':' '}\n",
    "\n",
    "mispell_dict = {'colour': 'color', 'centre': 'center', 'favourite': 'favorite', 'travelling': 'traveling', 'counselling': 'counseling', 'theatre': 'theater',\n",
    "                'cancelled': 'canceled', 'labour': 'labor', 'organisation': 'organization', 'wwii': 'world war 2', 'citicise': 'criticize', 'youtu ': 'youtube ',\n",
    "                'Qoura': 'Quora', 'sallary': 'salary', 'Whta': 'What', 'narcisist': 'narcissist', 'howdo': 'how do', 'whatare': 'what are', 'howcan': 'how can',\n",
    "                'howmuch': 'how much', 'howmany': 'how many', 'whydo': 'why do', 'doI': 'do I', 'theBest': 'the best', 'howdoes': 'how does', \n",
    "                'mastrubation': 'masturbation', 'mastrubate': 'masturbate', \"mastrubating\": 'masturbating', 'pennis': 'penis', 'Etherium': 'Ethereum', \n",
    "                'narcissit': 'narcissist', 'bigdata': 'big data', '2k17': '2017', '2k18': '2018', 'qouta': 'quota', 'exboyfriend': 'ex boyfriend', \n",
    "                'airhostess': 'air hostess', \"whst\": 'what', 'watsapp': 'whatsapp', 'demonitisation': 'demonetization', 'demonitization': 'demonetization',\n",
    "                'demonetisation': 'demonetization'}"
   ]
  },
  {
   "cell_type": "code",
   "execution_count": 8,
   "metadata": {},
   "outputs": [],
   "source": [
    "stemmer = PorterStemmer()\n",
    "stopword_list = stopwords.words('english')\n",
    "\n",
    "def clean_text(text):\n",
    "    '''Clean emoji, Make text lowercase, remove text in square brackets,remove links,remove punctuation\n",
    "    and remove words containing numbers.'''\n",
    "    text = emoji.demojize(text)\n",
    "    text = re.sub(r'\\:(.*?)\\:','',text)\n",
    "    text = str(text).lower()    #Making Text Lowercase\n",
    "    text = re.sub('\\[.*?\\]', '', text)\n",
    "    #The next 2 lines remove html text\n",
    "    text = re.sub('https?://\\S+|www\\.\\S+', '', text)\n",
    "    text = re.sub('<.*?>+', '', text)\n",
    "    text = re.sub('\\n', '', text)\n",
    "    text = re.sub('\\w*\\d\\w*', '', text)\n",
    "    # replacing everything with space except (a-z, A-Z, \".\", \"?\", \"!\", \",\", \"'\")\n",
    "    text = re.sub(r\"[^a-zA-Z?.!,¿']+\", \" \", text)\n",
    "    return text\n",
    "\n",
    "def clean_contractions(text, mapping):\n",
    "    '''Clean contraction using contraction mapping'''    \n",
    "    specials = [\"’\", \"‘\", \"´\", \"`\"]\n",
    "    for s in specials:\n",
    "        text = text.replace(s, \"'\")\n",
    "    for word in mapping.keys():\n",
    "        if \"\"+word+\"\" in text:\n",
    "            text = text.replace(\"\"+word+\"\", \"\"+mapping[word]+\"\")\n",
    "    #Remove Punctuations\n",
    "    text = re.sub('[%s]' % re.escape(string.punctuation), '', text)\n",
    "    # creating a space between a word and the punctuation following it\n",
    "    # eg: \"he is a boy.\" => \"he is a boy .\"\n",
    "    text = re.sub(r\"([?.!,¿])\", r\" \\1 \", text)\n",
    "    text = re.sub(r'[\" \"]+', \" \", text)\n",
    "    return text\n",
    "\n",
    "def clean_special_chars(text, punct, mapping):\n",
    "    '''Cleans special characters present(if any)'''   \n",
    "    for p in mapping:\n",
    "        text = text.replace(p, mapping[p])\n",
    "    \n",
    "    for p in punct:\n",
    "        text = text.replace(p, f' {p} ')\n",
    "    \n",
    "    specials = {'\\u200b': ' ', '…': ' ... ', '\\ufeff': '', 'करना': '', 'है': ''}  \n",
    "    for s in specials:\n",
    "        text = text.replace(s, specials[s])\n",
    "    \n",
    "    return text\n",
    "\n",
    "def correct_spelling(x, dic):\n",
    "    '''Corrects common spelling errors'''   \n",
    "    for word in dic.keys():\n",
    "        x = x.replace(word, dic[word])\n",
    "    return x\n",
    "\n",
    "def remove_space(text):\n",
    "    '''Removes awkward spaces'''   \n",
    "    #Removes awkward spaces \n",
    "    text = text.strip()\n",
    "    text = text.split()\n",
    "    return \" \".join(text)\n",
    "\n",
    "def tokenize_stem_no_stopwords(text):\n",
    "    return [stemmer.stem(w) for w in word_tokenize(text) if w not in stopword_list]\n",
    "\n",
    "def text_preprocessing_pipeline(text):\n",
    "    '''Cleaning and parsing the text.'''\n",
    "    text = clean_text(text)\n",
    "    text = clean_contractions(text, contraction_mapping)\n",
    "    text = clean_special_chars(text, punct, punct_mapping)\n",
    "    text = correct_spelling(text, mispell_dict)\n",
    "    text = remove_space(text)\n",
    "    text = tokenize_stem_no_stopwords(text)\n",
    "    return text"
   ]
  },
  {
   "cell_type": "code",
   "execution_count": 9,
   "metadata": {},
   "outputs": [],
   "source": [
    "df['processed_comment'] = df['comment'].str.lower()\n",
    "df['processed_comment'] = df['processed_comment'].apply(text_preprocessing_pipeline)"
   ]
  },
  {
   "cell_type": "code",
   "execution_count": 10,
   "metadata": {},
   "outputs": [],
   "source": [
    "N = df.shape[0]\n",
    "for emotion in enkman_mapping.keys():\n",
    "    df[emotion] = np.zeros((N,1), dtype=int)\n",
    "\n",
    "for emotion in enkman_mapping.keys():\n",
    "    df[emotion] = df['mapped_emotions'].apply(lambda x: 1 if emotion in x else 0)"
   ]
  },
  {
   "cell_type": "code",
   "execution_count": 11,
   "metadata": {},
   "outputs": [],
   "source": [
    "X_train, X_test = train_test_split(df, random_state=156, test_size=0.25, shuffle=True)"
   ]
  },
  {
   "cell_type": "code",
   "execution_count": 12,
   "metadata": {},
   "outputs": [],
   "source": [
    "tfidf=TfidfVectorizer()\n",
    "\n",
    "x_train = tfidf.fit_transform(X_train['processed_comment'].apply(lambda x: ' '.join(x)))\n",
    "x_test = tfidf.transform(X_test['processed_comment'].apply(lambda x: ' '.join(x)))"
   ]
  },
  {
   "cell_type": "code",
   "execution_count": 13,
   "metadata": {},
   "outputs": [
    {
     "data": {
      "text/html": [
       "<div>\n",
       "<style scoped>\n",
       "    .dataframe tbody tr th:only-of-type {\n",
       "        vertical-align: middle;\n",
       "    }\n",
       "\n",
       "    .dataframe tbody tr th {\n",
       "        vertical-align: top;\n",
       "    }\n",
       "\n",
       "    .dataframe thead th {\n",
       "        text-align: right;\n",
       "    }\n",
       "</style>\n",
       "<table border=\"1\" class=\"dataframe\">\n",
       "  <thead>\n",
       "    <tr style=\"text-align: right;\">\n",
       "      <th></th>\n",
       "      <th>comment</th>\n",
       "      <th>label</th>\n",
       "      <th>id</th>\n",
       "      <th>emotions</th>\n",
       "      <th>mapped_emotions</th>\n",
       "      <th>processed_comment</th>\n",
       "      <th>anger</th>\n",
       "      <th>disgust</th>\n",
       "      <th>fear</th>\n",
       "      <th>joy</th>\n",
       "      <th>sadness</th>\n",
       "      <th>surprise</th>\n",
       "      <th>neutral</th>\n",
       "    </tr>\n",
       "  </thead>\n",
       "  <tbody>\n",
       "    <tr>\n",
       "      <th>16737</th>\n",
       "      <td>It’s time to stop lad, it’s getting a little e...</td>\n",
       "      <td>[12]</td>\n",
       "      <td>ef64or1</td>\n",
       "      <td>[embarrassment]</td>\n",
       "      <td>[sadness]</td>\n",
       "      <td>[time, stop, lad, get, littl, embarrass]</td>\n",
       "      <td>0</td>\n",
       "      <td>0</td>\n",
       "      <td>0</td>\n",
       "      <td>0</td>\n",
       "      <td>1</td>\n",
       "      <td>0</td>\n",
       "      <td>0</td>\n",
       "    </tr>\n",
       "    <tr>\n",
       "      <th>5935</th>\n",
       "      <td>So glad my mom didn’t act this way when I was ...</td>\n",
       "      <td>[0, 17]</td>\n",
       "      <td>ediz2sg</td>\n",
       "      <td>[admiration, joy]</td>\n",
       "      <td>[joy]</td>\n",
       "      <td>[glad, mom, act, way, diagnos, oh, mom, smart,...</td>\n",
       "      <td>0</td>\n",
       "      <td>0</td>\n",
       "      <td>0</td>\n",
       "      <td>1</td>\n",
       "      <td>0</td>\n",
       "      <td>0</td>\n",
       "      <td>0</td>\n",
       "    </tr>\n",
       "    <tr>\n",
       "      <th>20213</th>\n",
       "      <td>Hopefully that's patched soon.</td>\n",
       "      <td>[20]</td>\n",
       "      <td>edmb4z7</td>\n",
       "      <td>[optimism]</td>\n",
       "      <td>[joy]</td>\n",
       "      <td>[hope, patch, soon]</td>\n",
       "      <td>0</td>\n",
       "      <td>0</td>\n",
       "      <td>0</td>\n",
       "      <td>1</td>\n",
       "      <td>0</td>\n",
       "      <td>0</td>\n",
       "      <td>0</td>\n",
       "    </tr>\n",
       "    <tr>\n",
       "      <th>1147</th>\n",
       "      <td>If you want a one minute story told in half an...</td>\n",
       "      <td>[1]</td>\n",
       "      <td>eedcfbk</td>\n",
       "      <td>[amusement]</td>\n",
       "      <td>[joy]</td>\n",
       "      <td>[want, one, minut, stori, told, half, hour, as...</td>\n",
       "      <td>0</td>\n",
       "      <td>0</td>\n",
       "      <td>0</td>\n",
       "      <td>1</td>\n",
       "      <td>0</td>\n",
       "      <td>0</td>\n",
       "      <td>0</td>\n",
       "    </tr>\n",
       "    <tr>\n",
       "      <th>29277</th>\n",
       "      <td>[NAME] has 6 eyes and will thus be the best ac...</td>\n",
       "      <td>[27]</td>\n",
       "      <td>edki307</td>\n",
       "      <td>[neutral]</td>\n",
       "      <td>[neutral]</td>\n",
       "      <td>[eye, thu, best, actor, movi]</td>\n",
       "      <td>0</td>\n",
       "      <td>0</td>\n",
       "      <td>0</td>\n",
       "      <td>0</td>\n",
       "      <td>0</td>\n",
       "      <td>0</td>\n",
       "      <td>1</td>\n",
       "    </tr>\n",
       "  </tbody>\n",
       "</table>\n",
       "</div>"
      ],
      "text/plain": [
       "                                                 comment    label       id  \\\n",
       "16737  It’s time to stop lad, it’s getting a little e...     [12]  ef64or1   \n",
       "5935   So glad my mom didn’t act this way when I was ...  [0, 17]  ediz2sg   \n",
       "20213                     Hopefully that's patched soon.     [20]  edmb4z7   \n",
       "1147   If you want a one minute story told in half an...      [1]  eedcfbk   \n",
       "29277  [NAME] has 6 eyes and will thus be the best ac...     [27]  edki307   \n",
       "\n",
       "                emotions mapped_emotions  \\\n",
       "16737    [embarrassment]       [sadness]   \n",
       "5935   [admiration, joy]           [joy]   \n",
       "20213         [optimism]           [joy]   \n",
       "1147         [amusement]           [joy]   \n",
       "29277          [neutral]       [neutral]   \n",
       "\n",
       "                                       processed_comment  anger  disgust  \\\n",
       "16737           [time, stop, lad, get, littl, embarrass]      0        0   \n",
       "5935   [glad, mom, act, way, diagnos, oh, mom, smart,...      0        0   \n",
       "20213                                [hope, patch, soon]      0        0   \n",
       "1147   [want, one, minut, stori, told, half, hour, as...      0        0   \n",
       "29277                      [eye, thu, best, actor, movi]      0        0   \n",
       "\n",
       "       fear  joy  sadness  surprise  neutral  \n",
       "16737     0    0        1         0        0  \n",
       "5935      0    1        0         0        0  \n",
       "20213     0    1        0         0        0  \n",
       "1147      0    1        0         0        0  \n",
       "29277     0    0        0         0        1  "
      ]
     },
     "execution_count": 13,
     "metadata": {},
     "output_type": "execute_result"
    }
   ],
   "source": [
    "X_train.head()"
   ]
  },
  {
   "cell_type": "code",
   "execution_count": 14,
   "metadata": {},
   "outputs": [],
   "source": [
    "data = X_train.sample(frac =0.2)"
   ]
  },
  {
   "cell_type": "code",
   "execution_count": 15,
   "metadata": {},
   "outputs": [],
   "source": [
    "from sklearn.model_selection import train_test_split\n",
    "X = data['comment'].values\n",
    "X= X.astype(str)\n",
    "y = data.iloc[:,6:].values\n",
    "\n",
    "X_train, X_test, y_train, y_test = train_test_split(X,y,test_size=0.3,random_state=42)"
   ]
  },
  {
   "cell_type": "code",
   "execution_count": 16,
   "metadata": {},
   "outputs": [],
   "source": [
    "import pandas as pd\n",
    "import numpy as np\n",
    "import sys\n",
    "from sklearn.model_selection import train_test_split\n",
    "# !pip install --user keras\n",
    "# !pip install --user tensorflow\n",
    "from keras.preprocessing.text import Tokenizer\n",
    "from keras.preprocessing.sequence import pad_sequences\n",
    "\n",
    "from keras.models import Sequential\n",
    "from keras.layers import Dense,Flatten,LSTM,Dropout, Bidirectional\n",
    "from keras.layers.embeddings import Embedding\n",
    "from keras.preprocessing import sequence\n",
    "from keras.models import model_from_json\n",
    "from keras.models import load_model\n",
    "\n",
    "pd.set_option('display.max_colwidth', 200)\n",
    "\n",
    "tokenizer = Tokenizer() #make a tokenizer\n",
    "tokenizer.fit_on_texts(X_train) #fit on text\n",
    "\n",
    "\n",
    "num_words=7000\n",
    "tokenizer.word_index = {e:i for e,i in tokenizer.word_index.items() if i <= num_words} # <= because tokenizer is 1 indexed\n",
    "tokenizer.word_index[tokenizer.oov_token] = num_words + 1\n",
    "\n",
    "X_train = tokenizer.texts_to_sequences(X_train)\n",
    "X_test = tokenizer.texts_to_sequences(X_test)\n",
    "vocab_size = len(tokenizer.word_index) + 1  # Adding 1 because of reserved 0 index\n",
    "\n",
    "maxlen = 20\n",
    "X_train = pad_sequences(X_train, padding='post', maxlen=maxlen)\n",
    "X_test = pad_sequences(X_test, padding='post', maxlen=maxlen)"
   ]
  },
  {
   "cell_type": "code",
   "execution_count": 17,
   "metadata": {},
   "outputs": [
    {
     "name": "stdout",
     "output_type": "stream",
     "text": [
      "embedding accuracy: 0.8961725221365324\n"
     ]
    }
   ],
   "source": [
    "def create_embedding_matrix(filepath, word_index, embedding_dim):\n",
    "    vocab_size = len(word_index)+1\n",
    "    embedding_matrix = np.zeros((vocab_size, embedding_dim))\n",
    "\n",
    "    with open(filepath,encoding='utf-8') as f:\n",
    "        for line in f:\n",
    "            word, *vector = line.split()\n",
    "            if word in word_index:\n",
    "                idx = word_index[word]\n",
    "                embedding_matrix[idx] = np.array(vector, dtype=np.float32)[:embedding_dim]\n",
    "\n",
    "    return embedding_matrix\n",
    "    \n",
    "embedding_dim = 300\n",
    "embedding_matrix = create_embedding_matrix('glove.6B.300d.txt', tokenizer.word_index, embedding_dim)\n",
    "\n",
    "nonzero_elements = np.count_nonzero(np.count_nonzero(embedding_matrix, axis=1))\n",
    "embedding_accuracy = nonzero_elements / vocab_size\n",
    "print('embedding accuracy: ' + str(embedding_accuracy))"
   ]
  },
  {
   "cell_type": "markdown",
   "metadata": {},
   "source": [
    "<h3>Model Building</h3>"
   ]
  },
  {
   "cell_type": "code",
   "execution_count": 18,
   "metadata": {},
   "outputs": [
    {
     "name": "stdout",
     "output_type": "stream",
     "text": [
      "Model: \"sequential\"\n",
      "_________________________________________________________________\n",
      "Layer (type)                 Output Shape              Param #   \n",
      "=================================================================\n",
      "embedding (Embedding)        (None, 20, 300)           2100600   \n",
      "_________________________________________________________________\n",
      "bidirectional (Bidirectional (None, 512)               1140736   \n",
      "_________________________________________________________________\n",
      "dense (Dense)                (None, 128)               65664     \n",
      "_________________________________________________________________\n",
      "dropout (Dropout)            (None, 128)               0         \n",
      "_________________________________________________________________\n",
      "dense_1 (Dense)              (None, 7)                 903       \n",
      "=================================================================\n",
      "Total params: 3,307,903\n",
      "Trainable params: 3,307,903\n",
      "Non-trainable params: 0\n",
      "_________________________________________________________________\n"
     ]
    }
   ],
   "source": [
    "# create the model\n",
    "model = Sequential()\n",
    "model.add(Embedding(vocab_size, embedding_dim, weights=[embedding_matrix], input_length=maxlen, trainable=True))\n",
    "    \n",
    "model.add(Bidirectional(LSTM(256, dropout=0.2, recurrent_dropout=0.2)))\n",
    "model.add(Dense(128, activation='relu'))\n",
    "model.add(Dropout(0.50))\n",
    "model.add(Dense(7, activation='softmax'))\n",
    "# Adam Optimiser\n",
    "model.compile(loss='binary_crossentropy',optimizer='adam', metrics=['accuracy'])\n",
    "model.summary()"
   ]
  },
  {
   "cell_type": "code",
   "execution_count": 19,
   "metadata": {},
   "outputs": [
    {
     "name": "stdout",
     "output_type": "stream",
     "text": [
      "Epoch 1/15\n",
      "46/46 [==============================] - 54s 686ms/step - loss: 0.4119 - accuracy: 0.3755 - val_loss: 0.3347 - val_accuracy: 0.4846\n",
      "Epoch 2/15\n",
      "46/46 [==============================] - 31s 667ms/step - loss: 0.3355 - accuracy: 0.4981 - val_loss: 0.3083 - val_accuracy: 0.5179\n",
      "Epoch 3/15\n",
      "46/46 [==============================] - 30s 643ms/step - loss: 0.2983 - accuracy: 0.5580 - val_loss: 0.2957 - val_accuracy: 0.5358\n",
      "Epoch 4/15\n",
      "46/46 [==============================] - 27s 588ms/step - loss: 0.2665 - accuracy: 0.6210 - val_loss: 0.2881 - val_accuracy: 0.5440\n",
      "Epoch 5/15\n",
      "46/46 [==============================] - 27s 578ms/step - loss: 0.2370 - accuracy: 0.6759 - val_loss: 0.2938 - val_accuracy: 0.5686\n",
      "Epoch 6/15\n",
      "46/46 [==============================] - 27s 586ms/step - loss: 0.2048 - accuracy: 0.7296 - val_loss: 0.3090 - val_accuracy: 0.5660\n",
      "Epoch 7/15\n",
      "46/46 [==============================] - 28s 604ms/step - loss: 0.1714 - accuracy: 0.7759 - val_loss: 0.3390 - val_accuracy: 0.5629\n",
      "Epoch 8/15\n",
      "46/46 [==============================] - 29s 627ms/step - loss: 0.1459 - accuracy: 0.8106 - val_loss: 0.3455 - val_accuracy: 0.5502\n",
      "Epoch 9/15\n",
      "46/46 [==============================] - 28s 612ms/step - loss: 0.1249 - accuracy: 0.8374 - val_loss: 0.3779 - val_accuracy: 0.5517\n",
      "Epoch 10/15\n",
      "46/46 [==============================] - 28s 600ms/step - loss: 0.1033 - accuracy: 0.8699 - val_loss: 0.4066 - val_accuracy: 0.5338\n",
      "Epoch 11/15\n",
      "46/46 [==============================] - 30s 660ms/step - loss: 0.0916 - accuracy: 0.8800 - val_loss: 0.4043 - val_accuracy: 0.5358\n",
      "Epoch 12/15\n",
      "46/46 [==============================] - 30s 656ms/step - loss: 0.0759 - accuracy: 0.9015 - val_loss: 0.4496 - val_accuracy: 0.5312\n",
      "Epoch 13/15\n",
      "46/46 [==============================] - 31s 677ms/step - loss: 0.0646 - accuracy: 0.9146 - val_loss: 0.5065 - val_accuracy: 0.5399\n",
      "Epoch 14/15\n",
      "46/46 [==============================] - 28s 600ms/step - loss: 0.0549 - accuracy: 0.9234 - val_loss: 0.5450 - val_accuracy: 0.5343\n",
      "Epoch 15/15\n",
      "46/46 [==============================] - 27s 592ms/step - loss: 0.0477 - accuracy: 0.9304 - val_loss: 0.5261 - val_accuracy: 0.5317\n"
     ]
    }
   ],
   "source": [
    "result = model.fit(X_train, y_train, epochs=15, verbose=True, validation_data=(X_test, y_test), batch_size=100)"
   ]
  },
  {
   "cell_type": "code",
   "execution_count": 20,
   "metadata": {},
   "outputs": [],
   "source": [
    "#from the above results number of epochs = 7\n",
    "result = model.fit(X_train, y_train, epochs=7, verbose=False, validation_data=(X_test, y_test), batch_size=100)"
   ]
  },
  {
   "cell_type": "markdown",
   "metadata": {},
   "source": [
    "<h3>Evaluation</h3>"
   ]
  },
  {
   "cell_type": "code",
   "execution_count": 21,
   "metadata": {},
   "outputs": [
    {
     "name": "stdout",
     "output_type": "stream",
     "text": [
      "Threshold: 0.1000, Precision: 0.5123, Recall: 0.5605, F1-measure: 0.5353\n",
      "Threshold: 0.2000, Precision: 0.5280, Recall: 0.5374, F1-measure: 0.5326\n",
      "Threshold: 0.2500, Precision: 0.5327, Recall: 0.5285, F1-measure: 0.5306\n",
      "Threshold: 0.3000, Precision: 0.5351, Recall: 0.5238, F1-measure: 0.5294\n",
      "Threshold: 0.4000, Precision: 0.5450, Recall: 0.5125, F1-measure: 0.5283\n",
      "Threshold: 0.5000, Precision: 0.5521, Recall: 0.5012, F1-measure: 0.5254\n",
      "Threshold: 0.6000, Precision: 0.5634, Recall: 0.4913, F1-measure: 0.5249\n",
      "Threshold: 0.7000, Precision: 0.5704, Recall: 0.4786, F1-measure: 0.5205\n",
      "Threshold: 0.8000, Precision: 0.5782, Recall: 0.4678, F1-measure: 0.5172\n",
      "Threshold: 0.9000, Precision: 0.5971, Recall: 0.4527, F1-measure: 0.5150\n"
     ]
    }
   ],
   "source": [
    "from sklearn.metrics import precision_score\n",
    "from sklearn.metrics import recall_score\n",
    "from sklearn.metrics import f1_score\n",
    "from sklearn.metrics import classification_report\n",
    "\n",
    "#making predictions\n",
    "y_pred = model.predict(X_test)\n",
    "\n",
    "thresholds=[0.1,0.2,0.25,0.3,0.4,0.5,0.6,0.7,0.8,0.9]\n",
    "for val in thresholds:\n",
    "    pred=y_pred.copy()\n",
    "  \n",
    "    pred[pred>=val]=1\n",
    "    pred[pred<val]=0\n",
    "  \n",
    "    precision = precision_score(y_test, pred, average='micro')\n",
    "    recall = recall_score(y_test, pred, average='micro')\n",
    "    f1 = f1_score(y_test, pred, average='micro')\n",
    "   \n",
    "\n",
    "    print(\"Threshold: {:.4f}, Precision: {:.4f}, Recall: {:.4f}, F1-measure: {:.4f}\".format(val, precision, recall, f1))"
   ]
  },
  {
   "cell_type": "code",
   "execution_count": 22,
   "metadata": {},
   "outputs": [
    {
     "name": "stdout",
     "output_type": "stream",
     "text": [
      "Emotion: anger, Precision: 0.3824, Recall: 0.3514, F1-measure: 0.3662\n",
      "Emotion: disgust, Precision: 0.3939, Recall: 0.3250, F1-measure: 0.3562\n",
      "Emotion: fear, Precision: 0.2353, Recall: 0.3636, F1-measure: 0.2857\n",
      "Emotion: joy, Precision: 0.6590, Recall: 0.7199, F1-measure: 0.6881\n",
      "Emotion: sadness, Precision: 0.4865, Recall: 0.4030, F1-measure: 0.4408\n",
      "Emotion: surprise, Precision: 0.3046, Recall: 0.2400, F1-measure: 0.2685\n",
      "Emotion: neutral, Precision: 0.5198, Recall: 0.5629, F1-measure: 0.5405\n"
     ]
    },
    {
     "data": {
      "image/png": "[encoded data removed]",
      "text/plain": [
       "<Figure size 432x288 with 1 Axes>"
      ]
     },
     "metadata": {
      "needs_background": "light"
     },
     "output_type": "display_data"
    }
   ],
   "source": [
    "###### Using this threshold of 0.2, we can determine the F1 score for each individual emotion:\n",
    "column_names = list(data.columns[6:])\n",
    "threshold = 0.2\n",
    "f1_scores = []\n",
    "for i in range(0,7):\n",
    "    emotion_prediction = y_pred[:,i]\n",
    "    emotion_prediction[emotion_prediction>=threshold]=1\n",
    "    emotion_prediction[emotion_prediction<threshold]=0\n",
    "    emotion_test = y_test[:,i]\n",
    "    precision = precision_score(emotion_test, emotion_prediction)\n",
    "    recall = recall_score(emotion_test, emotion_prediction)\n",
    "    f1 = f1_score(emotion_test, emotion_prediction)\n",
    "    print(\"Emotion: {}, Precision: {:.4f}, Recall: {:.4f}, F1-measure: {:.4f}\".format(column_names[i], precision, recall, f1))\n",
    "    f1_scores.append(f1)\n",
    "    \n",
    "\n",
    "import matplotlib.pyplot as plt\n",
    "fig = plt.figure()\n",
    "plt.bar(column_names[0:7],f1_scores)\n",
    "plt.xticks(rotation=90)\n",
    "plt.show()"
   ]
  },
  {
   "cell_type": "code",
   "execution_count": 23,
   "metadata": {},
   "outputs": [
    {
     "name": "stdout",
     "output_type": "stream",
     "text": [
      "Average F1-Score across Multi-Lables: 0.5326492537313433\n"
     ]
    }
   ],
   "source": [
    "pred = y_pred.copy()\n",
    "pred[pred>=0.2] = 1\n",
    "pred[pred<0.2] =0\n",
    "print(\"Average F1-Score across Multi-Lables: {}\".format(f1_score(y_test, pred, average='micro')))"
   ]
  }
 ],
 "metadata": {
  "kernelspec": {
   "display_name": "Python 3",
   "language": "python",
   "name": "python3"
  },
  "language_info": {
   "codemirror_mode": {
    "name": "ipython",
    "version": 3
   },
   "file_extension": ".py",
   "mimetype": "text/x-python",
   "name": "python",
   "nbconvert_exporter": "python",
   "pygments_lexer": "ipython3",
   "version": "3.8.3"
  }
 },
 "nbformat": 4,
 "nbformat_minor": 4
}
